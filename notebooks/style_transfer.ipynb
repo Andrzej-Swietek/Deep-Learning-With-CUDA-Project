{
 "cells": [
  {
   "metadata": {},
   "cell_type": "markdown",
   "source": "# Neural Style Transfer",
   "id": "d5421c7e1f6f40bb"
  },
  {
   "cell_type": "code",
   "execution_count": null,
   "id": "initial_id",
   "metadata": {
    "collapsed": true
   },
   "outputs": [],
   "source": [
    "import os\n",
    "import numpy as np\n",
    "import torch\n",
    "import torch.nn.functional as F\n",
    "from torchvision import transforms"
   ]
  },
  {
   "metadata": {},
   "cell_type": "markdown",
   "source": "## Running Neural Style Transfer With Default Parameters",
   "id": "23cca1552853965a"
  },
  {
   "metadata": {
    "ExecuteTime": {
     "end_time": "2024-06-14T18:16:32.999925Z",
     "start_time": "2024-06-14T18:16:32.997192Z"
    }
   },
   "cell_type": "code",
   "source": "python3 ../neural_style_transfer.py --content_image_path ../data/content/star_wars_1.jpg --style_image_path ../data/style/japan.jpg ",
   "id": "7eb15df769819a52",
   "outputs": [
    {
     "ename": "SyntaxError",
     "evalue": "invalid syntax (3895077956.py, line 1)",
     "output_type": "error",
     "traceback": [
      "\u001B[0;36m  File \u001B[0;32m\"/tmp/ipykernel_58318/3895077956.py\"\u001B[0;36m, line \u001B[0;32m1\u001B[0m\n\u001B[0;31m    python3 ../neural_style_transfer.py --content_image_path ../data/content/star_wars_1.jpg --style_image_path ../data/style/japan.jpg\u001B[0m\n\u001B[0m             ^\u001B[0m\n\u001B[0;31mSyntaxError\u001B[0m\u001B[0;31m:\u001B[0m invalid syntax\n"
     ]
    }
   ],
   "execution_count": 30
  },
  {
   "metadata": {},
   "cell_type": "code",
   "outputs": [],
   "execution_count": null,
   "source": "",
   "id": "58b073c58edcb743"
  }
 ],
 "metadata": {
  "kernelspec": {
   "display_name": "Python 3",
   "language": "python",
   "name": "python3"
  },
  "language_info": {
   "codemirror_mode": {
    "name": "ipython",
    "version": 2
   },
   "file_extension": ".py",
   "mimetype": "text/x-python",
   "name": "python",
   "nbconvert_exporter": "python",
   "pygments_lexer": "ipython2",
   "version": "2.7.6"
  }
 },
 "nbformat": 4,
 "nbformat_minor": 5
}
